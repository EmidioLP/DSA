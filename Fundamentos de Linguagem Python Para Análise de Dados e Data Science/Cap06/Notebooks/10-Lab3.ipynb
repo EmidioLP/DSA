{
 "cells": [
  {
   "cell_type": "markdown",
   "id": "4748e0f7",
   "metadata": {},
   "source": [
    "# Data Science Academy\n",
    "\n",
    "### Fundamentos de Linguagem Python para Análise de Dados e Data Science\n",
    "\n",
    "### Capítulo 6 - Lab3 utilizando o ChatGPT"
   ]
  },
  {
   "cell_type": "code",
   "execution_count": 1,
   "id": "47328f23",
   "metadata": {},
   "outputs": [
    {
     "name": "stdout",
     "output_type": "stream",
     "text": [
      "Versão da Linguagem Python Usada Neste Jupyter Notebook:  3.9.13\n"
     ]
    }
   ],
   "source": [
    "# Versão da Linguagem Python\n",
    "from platform import python_version\n",
    "print('Versão da Linguagem Python Usada Neste Jupyter Notebook: ', python_version())"
   ]
  },
  {
   "cell_type": "markdown",
   "id": "624684b2",
   "metadata": {},
   "source": [
    "### Expressões Regulares\n",
    "Expressões regulares são padrões usados para combinar ou encontrar ocorrências de sequências de caracteres em uma string. Em Python, expressões regulares são geralmente utilizadas para manipular strings e realizar tarefas como validação de entrada de dados, extração de informações de strings e sibstituição de texto."
   ]
  },
  {
   "cell_type": "code",
   "execution_count": 2,
   "id": "aa574215",
   "metadata": {},
   "outputs": [],
   "source": [
    "import re"
   ]
  },
  {
   "cell_type": "code",
   "execution_count": 3,
   "id": "71e5b44e",
   "metadata": {},
   "outputs": [],
   "source": [
    "text = \"Meu e-mail é exemplo@gmail.com e você pode me contatar em outro_email@yahoo.com.\""
   ]
  },
  {
   "cell_type": "code",
   "execution_count": 6,
   "id": "2cedde7c",
   "metadata": {},
   "outputs": [],
   "source": [
    "# Expressão regular para contar quantas vezes o caracter arroba aparece no texto\n",
    "resultado = (len(re.findall(\"@\", text)))"
   ]
  },
  {
   "cell_type": "code",
   "execution_count": 7,
   "id": "9ff7ebd8",
   "metadata": {},
   "outputs": [
    {
     "name": "stdout",
     "output_type": "stream",
     "text": [
      "O caractere '@' apareceu 2 vezes no texto.\n"
     ]
    }
   ],
   "source": [
    "print( \"O caractere '@' apareceu\", resultado, \"vezes no texto.\")"
   ]
  },
  {
   "cell_type": "code",
   "execution_count": 8,
   "id": "372b18dc",
   "metadata": {},
   "outputs": [],
   "source": [
    "# Expressão regular para extrair a palavra que aparece após a palavra \"você\" em um texto\n",
    "resultado = re.findall(r'você (\\w+)', text)"
   ]
  },
  {
   "cell_type": "code",
   "execution_count": 9,
   "id": "c9be2db3",
   "metadata": {},
   "outputs": [
    {
     "name": "stdout",
     "output_type": "stream",
     "text": [
      "A palavra após 'você' é: pode\n"
     ]
    }
   ],
   "source": [
    "print(\"A palavra após 'você' é:\", resultado[0])"
   ]
  },
  {
   "cell_type": "markdown",
   "id": "4f95c27f",
   "metadata": {},
   "source": [
    "Nota: O r antes da string que presente a expressão regular em Python é usado para indicar que a string é uma string literal raw. Isso significa que as barras invertidas () não são interpretadas como caracteres de escape, mas são incluídas na expressão regular como parte do padrão."
   ]
  },
  {
   "cell_type": "code",
   "execution_count": 10,
   "id": "d75e7d13",
   "metadata": {},
   "outputs": [],
   "source": [
    "# Expressão regular para extrair endereços de e-mail de uma string\n",
    "emails = re.findall(r'\\b[A-Za-z0-9._%+-]+@[A-Za-z0-9.-]+\\.[A-Z|a-z]{2,}\\b', text)"
   ]
  },
  {
   "cell_type": "code",
   "execution_count": 11,
   "id": "8e52fe12",
   "metadata": {},
   "outputs": [
    {
     "name": "stdout",
     "output_type": "stream",
     "text": [
      "['exemplo@gmail.com', 'outro_email@yahoo.com']\n"
     ]
    }
   ],
   "source": [
    "print(emails)"
   ]
  },
  {
   "cell_type": "markdown",
   "id": "a2260c5f",
   "metadata": {},
   "source": [
    "Visite a documentação: https://docs.python.org/3.9/library/re.html"
   ]
  },
  {
   "cell_type": "code",
   "execution_count": 12,
   "id": "ffe7c780",
   "metadata": {},
   "outputs": [],
   "source": [
    "texto = \"O aluno estava incrivelmente perdido, mas encontrou a DSA e rapidamente começou a aprender.\""
   ]
  },
  {
   "cell_type": "code",
   "execution_count": 14,
   "id": "2c20dbe7",
   "metadata": {},
   "outputs": [
    {
     "name": "stdout",
     "output_type": "stream",
     "text": [
      "15-28: incrivelmente\n",
      "60-71: rapidamente\n"
     ]
    }
   ],
   "source": [
    "# Extraindo os advérbios da frase\n",
    "for m in re.finditer(r\"\\w+mente\\b\", texto):\n",
    "    print('%02d-%02d: %s' % (m.start(), m.end(), m.group(0)))"
   ]
  },
  {
   "cell_type": "markdown",
   "id": "f4ad0750",
   "metadata": {},
   "source": [
    "### REGEX com CHATGPT\n",
    "Música: Tempo Perdido\n",
    "\n",
    "Legião Urbana"
   ]
  },
  {
   "cell_type": "code",
   "execution_count": 15,
   "id": "6c50529a",
   "metadata": {},
   "outputs": [],
   "source": [
    "# Variável do tipo string\n",
    "musica = '''\n",
    "Todos os dias quando acordo\n",
    "Não tenho mais\n",
    "O tempo que passou\n",
    "Mas tenho muito tempo\n",
    "Temos todo o tempo do mundo\n",
    "Todos os dias\n",
    "Antes de dormir\n",
    "Lembro e esqueço\n",
    "Como foi o dia\n",
    "Sempre em frente\n",
    "Não temos tempo a perder\n",
    "Nosso suor sagrado\n",
    "É bem mais belo\n",
    "Que esse sangue amargo\n",
    "E tão sério\n",
    "E selvagem! Selvagem!\n",
    "Selvagem!\n",
    "Veja o sol\n",
    "Dessa manhã tão cinza\n",
    "A tempestade que chega\n",
    "É da cor dos teus olhos\n",
    "Castanhos\n",
    "Então me abraça forte\n",
    "E diz mais uma vez\n",
    "Que já estamos\n",
    "Distantes de tudo\n",
    "Temos nosso próprio tempo\n",
    "Temos nosso próprio tempo\n",
    "Temos nosso próprio tempo\n",
    "Não tenho medo do escuro\n",
    "Mas deixe as luzes\n",
    "Acesas agora\n",
    "O que foi escondido\n",
    "É o que se escondeu\n",
    "E o que foi prometido\n",
    "Ninguém prometeu\n",
    "Nem foi tempo perdido\n",
    "Somos tão jovens\n",
    "Tão jovens! Tão jovens!\n",
    "'''"
   ]
  },
  {
   "cell_type": "code",
   "execution_count": 16,
   "id": "2ef19680",
   "metadata": {},
   "outputs": [
    {
     "name": "stdout",
     "output_type": "stream",
     "text": [
      "\n",
      "Todos os dias quando acordo\n",
      "Não tenho mais\n",
      "O tempo que passou\n",
      "Mas tenho muito tempo\n",
      "Temos todo o tempo do mundo\n",
      "Todos os dias\n",
      "Antes de dormir\n",
      "Lembro e esqueço\n",
      "Como foi o dia\n",
      "Sempre em frente\n",
      "Não temos tempo a perder\n",
      "Nosso suor sagrado\n",
      "É bem mais belo\n",
      "Que esse sangue amargo\n",
      "E tão sério\n",
      "E selvagem! Selvagem!\n",
      "Selvagem!\n",
      "Veja o sol\n",
      "Dessa manhã tão cinza\n",
      "A tempestade que chega\n",
      "É da cor dos teus olhos\n",
      "Castanhos\n",
      "Então me abraça forte\n",
      "E diz mais uma vez\n",
      "Que já estamos\n",
      "Distantes de tudo\n",
      "Temos nosso próprio tempo\n",
      "Temos nosso próprio tempo\n",
      "Temos nosso próprio tempo\n",
      "Não tenho medo do escuro\n",
      "Mas deixe as luzes\n",
      "Acesas agora\n",
      "O que foi escondido\n",
      "É o que se escondeu\n",
      "E o que foi prometido\n",
      "Ninguém prometeu\n",
      "Nem foi tempo perdido\n",
      "Somos tão jovens\n",
      "Tão jovens! Tão jovens!\n",
      "\n"
     ]
    }
   ],
   "source": [
    "print(musica)"
   ]
  },
  {
   "cell_type": "code",
   "execution_count": 17,
   "id": "8cb5cf93",
   "metadata": {},
   "outputs": [],
   "source": [
    "# 1 - Crie um REGEX para contar quantas vezes o caracter \"a\" aparece em todo o texto da música.\n",
    "# 2 - Crie um REGEX em Python para contar quantas vezes a palavra tempo aparece na música.\n",
    "# 3 - Crie um REGEX em Python para extrair as palavras seguidas por exclamação.\n",
    "# 4 - Crie um REGEX que extrai qualquer palavra cujo antecessor seja a palavra \"esse\" e o sucessor seja a palavra \"amargo\" em um texto. \n",
    "# 5 - Crie um REGEX que retorne as palavras com acento, mas somentes os caracteres na palavra que são anteriores ao caracter com acento."
   ]
  },
  {
   "cell_type": "markdown",
   "id": "f77237aa",
   "metadata": {},
   "source": [
    "### Soluções Geradas"
   ]
  },
  {
   "cell_type": "code",
   "execution_count": 18,
   "id": "8f944e44",
   "metadata": {},
   "outputs": [
    {
     "name": "stdout",
     "output_type": "stream",
     "text": [
      "39\n"
     ]
    }
   ],
   "source": [
    "# 1 - Crie um REGEX para contar quantas vezes o caracter \"a\" aparece em todo o texto da música.\n",
    "padrao = r\"a\"\n",
    "\n",
    "ocorrencias = len(re.findall(padrao, musica))\n",
    "print(ocorrencias)"
   ]
  },
  {
   "cell_type": "code",
   "execution_count": 20,
   "id": "69aaaa86",
   "metadata": {},
   "outputs": [
    {
     "name": "stdout",
     "output_type": "stream",
     "text": [
      "8\n"
     ]
    }
   ],
   "source": [
    "# 2 - Crie um REGEX em Python para contar quantas vezes a palavra tempo aparece na música.\n",
    "padrao = r\"\\btempo\\b\"\n",
    "\n",
    "ocorrencias = len(re.findall(padrao, musica))\n",
    "print(ocorrencias)"
   ]
  },
  {
   "cell_type": "code",
   "execution_count": 23,
   "id": "4b029d1d",
   "metadata": {},
   "outputs": [
    {
     "name": "stdout",
     "output_type": "stream",
     "text": [
      "['selvagem!', 'Selvagem!', 'Selvagem!', 'jovens!', 'jovens!']\n"
     ]
    }
   ],
   "source": [
    "# 3 - Crie um REGEX em Python para extrair as palavras seguidas por exclamação.\n",
    "padrao = r\"\\b\\w+!\" #Modificado pois o do ChatGPT não funcionou corretamente\n",
    "\n",
    "palavras = re.findall(padrao, musica)\n",
    "print(palavras)"
   ]
  },
  {
   "cell_type": "code",
   "execution_count": 26,
   "id": "09fc21d9",
   "metadata": {},
   "outputs": [
    {
     "name": "stdout",
     "output_type": "stream",
     "text": [
      "['sangue']\n"
     ]
    }
   ],
   "source": [
    "# 4 - Crie um REGEX que extrai qualquer palavra cujo antecessor seja a palavra \"esse\" e o \n",
    "# sucessor seja a palavra \"amargo\" em um texto. \n",
    "padrao = r\"(?<=\\besse\\s)\\w+(?=\\samargo\\b)\"\n",
    "\n",
    "palavras = re.findall(padrao, musica)\n",
    "print(palavras)"
   ]
  },
  {
   "cell_type": "code",
   "execution_count": 30,
   "id": "e0a95eee",
   "metadata": {},
   "outputs": [
    {
     "name": "stdout",
     "output_type": "stream",
     "text": [
      "As palavras acentuadas são:  ['Nã', 'esqueç', 'Nã', 'tã', 'sé', 'manhã', 'tã', 'Entã', 'abraç', 'já', 'pró', 'pró', 'pró', 'Nã', 'Ningué', 'tã', 'Tã', 'Tã']\n"
     ]
    }
   ],
   "source": [
    "# 5 - Crie um REGEX que retorne as palavras com acento, mas somentes os caracteres na palavra que\n",
    "# são anteriores ao caracter com acento.\n",
    "re5 = re.findall(r'\\b[\\wÀ-ÿ]+[áéíóúãõç]', musica)\n",
    "print(\"As palavras acentuadas são: \", re5)"
   ]
  },
  {
   "cell_type": "markdown",
   "id": "f1c71ba9",
   "metadata": {},
   "source": [
    "# Fim"
   ]
  }
 ],
 "metadata": {
  "kernelspec": {
   "display_name": "Python 3 (ipykernel)",
   "language": "python",
   "name": "python3"
  },
  "language_info": {
   "codemirror_mode": {
    "name": "ipython",
    "version": 3
   },
   "file_extension": ".py",
   "mimetype": "text/x-python",
   "name": "python",
   "nbconvert_exporter": "python",
   "pygments_lexer": "ipython3",
   "version": "3.9.13"
  }
 },
 "nbformat": 4,
 "nbformat_minor": 5
}
