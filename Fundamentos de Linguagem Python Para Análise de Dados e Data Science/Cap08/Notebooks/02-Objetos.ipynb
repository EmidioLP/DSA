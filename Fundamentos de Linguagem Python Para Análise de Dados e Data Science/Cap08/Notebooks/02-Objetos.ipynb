{
 "cells": [
  {
   "cell_type": "markdown",
   "id": "85faf597",
   "metadata": {},
   "source": [
    "# Data Science Academy\n",
    "\n",
    "### Fundamentos de Linguagem Python para Análise de Dados e Data Science\n",
    "\n",
    "### Introdução à Programação Orientada a Objetos"
   ]
  },
  {
   "cell_type": "code",
   "execution_count": 1,
   "id": "8a584941",
   "metadata": {},
   "outputs": [
    {
     "name": "stdout",
     "output_type": "stream",
     "text": [
      "Versão da Linguagem Python Usada Neste Jupyter Notebook:  3.9.13\n"
     ]
    }
   ],
   "source": [
    "# Versão da Linguagem Python\n",
    "from platform import python_version\n",
    "print('Versão da Linguagem Python Usada Neste Jupyter Notebook: ', python_version())"
   ]
  },
  {
   "cell_type": "markdown",
   "id": "8747ff40",
   "metadata": {},
   "source": [
    "### Objetos\n",
    "Em Python, tudo é objeto!"
   ]
  },
  {
   "cell_type": "code",
   "execution_count": 2,
   "id": "2b62e57a",
   "metadata": {},
   "outputs": [],
   "source": [
    "# Criando uma lista\n",
    "lst_num = [\"Data\", \"Science\", \"Academy\", \"Nota\", 10, 10]"
   ]
  },
  {
   "cell_type": "code",
   "execution_count": 3,
   "id": "382d72d9",
   "metadata": {},
   "outputs": [
    {
     "data": {
      "text/plain": [
       "list"
      ]
     },
     "execution_count": 3,
     "metadata": {},
     "output_type": "execute_result"
    }
   ],
   "source": [
    "# A lista lst_num é um objeto, uma instância da classe lista em Python\n",
    "type(lst_num)"
   ]
  },
  {
   "cell_type": "code",
   "execution_count": 4,
   "id": "0abccc1b",
   "metadata": {},
   "outputs": [
    {
     "name": "stdout",
     "output_type": "stream",
     "text": [
      "<class 'list'>\n"
     ]
    }
   ],
   "source": [
    "print(type([]))"
   ]
  },
  {
   "cell_type": "code",
   "execution_count": 5,
   "id": "06ccf153",
   "metadata": {},
   "outputs": [
    {
     "data": {
      "text/plain": [
       "2"
      ]
     },
     "execution_count": 5,
     "metadata": {},
     "output_type": "execute_result"
    }
   ],
   "source": [
    "lst_num.count(10)"
   ]
  },
  {
   "cell_type": "code",
   "execution_count": 6,
   "id": "d96f7d99",
   "metadata": {},
   "outputs": [
    {
     "name": "stdout",
     "output_type": "stream",
     "text": [
      "<class 'int'>\n",
      "<class 'list'>\n",
      "<class 'tuple'>\n",
      "<class 'dict'>\n",
      "<class 'str'>\n"
     ]
    }
   ],
   "source": [
    "# Usando a função type para verificar o tipo de um objeto\n",
    "print(type(10))\n",
    "print(type([]))\n",
    "print(type(()))\n",
    "print(type({}))\n",
    "print(type('a'))"
   ]
  },
  {
   "cell_type": "code",
   "execution_count": 7,
   "id": "9fdec313",
   "metadata": {},
   "outputs": [],
   "source": [
    "# Criando um novo tipo de objeto chamado Carro\n",
    "class Carro(object):\n",
    "    pass"
   ]
  },
  {
   "cell_type": "code",
   "execution_count": 8,
   "id": "b09a0b79",
   "metadata": {},
   "outputs": [],
   "source": [
    "# Instância do Carro\n",
    "ferrari = Carro()"
   ]
  },
  {
   "cell_type": "code",
   "execution_count": 9,
   "id": "413c4dcd",
   "metadata": {},
   "outputs": [
    {
     "name": "stdout",
     "output_type": "stream",
     "text": [
      "<class '__main__.Carro'>\n"
     ]
    }
   ],
   "source": [
    "print(type(ferrari))"
   ]
  },
  {
   "cell_type": "code",
   "execution_count": 10,
   "id": "c6186cf8",
   "metadata": {},
   "outputs": [],
   "source": [
    "# Criando uma classe\n",
    "class Estudantes:\n",
    "    def __init__(self, nome, idade, nota):\n",
    "        self.nome = nome\n",
    "        self.idade = idade\n",
    "        self.nota = nota"
   ]
  },
  {
   "cell_type": "code",
   "execution_count": 11,
   "id": "86757f18",
   "metadata": {},
   "outputs": [],
   "source": [
    "# Criando um objeto chamado estudante1 a patir da classe estudantes\n",
    "estudante1 = Estudantes(\"Bob\", 12, 9.5)"
   ]
  },
  {
   "cell_type": "code",
   "execution_count": 13,
   "id": "8e7dbd44",
   "metadata": {},
   "outputs": [
    {
     "data": {
      "text/plain": [
       "12"
      ]
     },
     "execution_count": 13,
     "metadata": {},
     "output_type": "execute_result"
    }
   ],
   "source": [
    "# Atributo da classe Estudante utilizado por cada objeto criado a partir dessa classe\n",
    "estudante1.nome"
   ]
  },
  {
   "cell_type": "code",
   "execution_count": 14,
   "id": "5fb744c4",
   "metadata": {},
   "outputs": [
    {
     "data": {
      "text/plain": [
       "12"
      ]
     },
     "execution_count": 14,
     "metadata": {},
     "output_type": "execute_result"
    }
   ],
   "source": [
    "estudante1.idade"
   ]
  },
  {
   "cell_type": "code",
   "execution_count": 15,
   "id": "ca3103aa",
   "metadata": {},
   "outputs": [
    {
     "data": {
      "text/plain": [
       "9.5"
      ]
     },
     "execution_count": 15,
     "metadata": {},
     "output_type": "execute_result"
    }
   ],
   "source": [
    "estudante1.nota"
   ]
  },
  {
   "cell_type": "code",
   "execution_count": 16,
   "id": "2e5108f8",
   "metadata": {},
   "outputs": [],
   "source": [
    "# Criando uma classe\n",
    "class Funcionarios:\n",
    "    \n",
    "    def __init__(self, nome, salario, cargo):\n",
    "        self.nome = nome\n",
    "        self.salario = salario\n",
    "        self.cargo = cargo\n",
    "        \n",
    "    def listFunc(self):\n",
    "        print(\"Funcionário(a) \" + self.nome + \" tem salário de R$\" + str(self.salario) + \" e o cargo é \" + self.cargo)"
   ]
  },
  {
   "cell_type": "code",
   "execution_count": 17,
   "id": "36cceb3a",
   "metadata": {},
   "outputs": [],
   "source": [
    "# Criazndo um objeto chamado func1 a partir da classe Funcionarios\n",
    "func1 = Funcionarios(\"Mary\", 2000, \"Cientista de Dados\")"
   ]
  },
  {
   "cell_type": "code",
   "execution_count": 18,
   "id": "fb299e7e",
   "metadata": {},
   "outputs": [
    {
     "name": "stdout",
     "output_type": "stream",
     "text": [
      "Funcionário(a) Mary tem salário de R$2000 e o cargo é Cientista de Dados\n"
     ]
    }
   ],
   "source": [
    "# Utilizando o método da classe\n",
    "func1.listFunc()"
   ]
  },
  {
   "cell_type": "code",
   "execution_count": 19,
   "id": "a003f7cd",
   "metadata": {},
   "outputs": [
    {
     "name": "stdout",
     "output_type": "stream",
     "text": [
      "**** Usando atributos ****\n"
     ]
    }
   ],
   "source": [
    "print(\"**** Usando atributos ****\")"
   ]
  },
  {
   "cell_type": "code",
   "execution_count": 20,
   "id": "20d34383",
   "metadata": {},
   "outputs": [
    {
     "data": {
      "text/plain": [
       "True"
      ]
     },
     "execution_count": 20,
     "metadata": {},
     "output_type": "execute_result"
    }
   ],
   "source": [
    "hasattr(func1, \"nome\")"
   ]
  },
  {
   "cell_type": "code",
   "execution_count": 21,
   "id": "04cee9c4",
   "metadata": {},
   "outputs": [
    {
     "data": {
      "text/plain": [
       "True"
      ]
     },
     "execution_count": 21,
     "metadata": {},
     "output_type": "execute_result"
    }
   ],
   "source": [
    "hasattr(func1, \"salario\")"
   ]
  },
  {
   "cell_type": "code",
   "execution_count": 23,
   "id": "51e70016",
   "metadata": {},
   "outputs": [],
   "source": [
    "setattr(func1, \"salario\", 4500)"
   ]
  },
  {
   "cell_type": "code",
   "execution_count": 24,
   "id": "0e3589df",
   "metadata": {},
   "outputs": [
    {
     "data": {
      "text/plain": [
       "True"
      ]
     },
     "execution_count": 24,
     "metadata": {},
     "output_type": "execute_result"
    }
   ],
   "source": [
    "hasattr(func1, \"salario\")"
   ]
  },
  {
   "cell_type": "code",
   "execution_count": 25,
   "id": "950b1940",
   "metadata": {},
   "outputs": [
    {
     "data": {
      "text/plain": [
       "4500"
      ]
     },
     "execution_count": 25,
     "metadata": {},
     "output_type": "execute_result"
    }
   ],
   "source": [
    "getattr(func1, \"salario\")"
   ]
  },
  {
   "cell_type": "code",
   "execution_count": 26,
   "id": "b54e2acf",
   "metadata": {},
   "outputs": [],
   "source": [
    "delattr(func1, \"salario\")"
   ]
  },
  {
   "cell_type": "code",
   "execution_count": 27,
   "id": "99175315",
   "metadata": {},
   "outputs": [
    {
     "data": {
      "text/plain": [
       "False"
      ]
     },
     "execution_count": 27,
     "metadata": {},
     "output_type": "execute_result"
    }
   ],
   "source": [
    "hasattr(func1, \"salario\")"
   ]
  },
  {
   "cell_type": "markdown",
   "id": "5b8ea045",
   "metadata": {},
   "source": [
    "# Fim"
   ]
  }
 ],
 "metadata": {
  "kernelspec": {
   "display_name": "Python 3 (ipykernel)",
   "language": "python",
   "name": "python3"
  },
  "language_info": {
   "codemirror_mode": {
    "name": "ipython",
    "version": 3
   },
   "file_extension": ".py",
   "mimetype": "text/x-python",
   "name": "python",
   "nbconvert_exporter": "python",
   "pygments_lexer": "ipython3",
   "version": "3.9.13"
  }
 },
 "nbformat": 4,
 "nbformat_minor": 5
}
