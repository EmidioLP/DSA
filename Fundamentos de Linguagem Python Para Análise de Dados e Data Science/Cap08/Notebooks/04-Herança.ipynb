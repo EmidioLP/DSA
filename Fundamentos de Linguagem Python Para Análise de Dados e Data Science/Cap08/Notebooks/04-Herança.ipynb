{
 "cells": [
  {
   "cell_type": "markdown",
   "id": "a6ecb163",
   "metadata": {},
   "source": [
    "# Data Science Academy\n",
    "\n",
    "### Fundamentos de Linguagem Python para Análise de Dados e Data Science\n",
    "\n",
    "### Introdução à Programação Orientada a Objetos"
   ]
  },
  {
   "cell_type": "code",
   "execution_count": 1,
   "id": "ab7e2598",
   "metadata": {},
   "outputs": [
    {
     "name": "stdout",
     "output_type": "stream",
     "text": [
      "Versão da Linguagem Python Usada Neste Jupyter Notebook:  3.9.13\n"
     ]
    }
   ],
   "source": [
    "# Versão da Linguagem Python\n",
    "from platform import python_version\n",
    "print('Versão da Linguagem Python Usada Neste Jupyter Notebook: ', python_version())"
   ]
  },
  {
   "cell_type": "markdown",
   "id": "d7f144e2",
   "metadata": {},
   "source": [
    "### Trabalhando com Herança de Classes em Python\n",
    "Em Programação Horientada a Objetos (POO), a herança é um conceito que permite criar novas classes a partir de outras classes existentes, aproveitando os atributos e métodos da classe original e adicionando novos atributos e métodos específicos.\n",
    "\n",
    "A classe original é chamada de classe mãe ou superclassse e a nova classe criada é chamada de classe filha ou subclasse.\n",
    "\n",
    "A herança é uma técnica importante em POO porque permite reutilizar código de maneira eficiente. Em vez de criar uma nova classe do zero, a subclasse pode herdar todos os atributos e métodos da superclasse e adicionar apenas o que é necessário. Dessa forma, a subclasse pode se concentrar em fornecer funcionalidades adicionais sem precisar se preocupar com as características básicas da classe.\n",
    "\n",
    "Na herança, uma subclasse pode herdar os atributos e métodos da superclasse e substituí-los ou estendê-los conforme necessário. Por exemplo, uma subclasse pode ter um método com o mesmo nome de um método da superclasse, mas com um comportamento diferente."
   ]
  },
  {
   "cell_type": "code",
   "execution_count": 2,
   "id": "9e8d8818",
   "metadata": {},
   "outputs": [],
   "source": [
    "# Criando a classe Animal - Super-classe\n",
    "class Animal:\n",
    "    \n",
    "    def __init__(self):\n",
    "        print(\"Animal criado.\")\n",
    "        \n",
    "    def imprimir(self):\n",
    "        print(\"Este é um animal.\")\n",
    "    \n",
    "    def comer(self):\n",
    "        print(\"hora de comer.\")\n",
    "    \n",
    "    def emitir_som(self):\n",
    "        pass"
   ]
  },
  {
   "cell_type": "code",
   "execution_count": 9,
   "id": "0ede547d",
   "metadata": {},
   "outputs": [],
   "source": [
    "# Criando a classe Cachorro - Sub-classe\n",
    "class Cachorro(Animal):\n",
    "    \n",
    "    def __init__(self):\n",
    "        Animal.__init__(self)\n",
    "        print(\"Objeto cachorro criado.\")\n",
    "    \n",
    "    def emitir_som(self):\n",
    "        print(\"Au Au!\")"
   ]
  },
  {
   "cell_type": "code",
   "execution_count": 10,
   "id": "7a581e2e",
   "metadata": {},
   "outputs": [],
   "source": [
    "# Criando a classe Gato - Sub-classe\n",
    "class Gato(Animal):\n",
    "    \n",
    "    def __init__(self):\n",
    "        Animal.__init__(self)\n",
    "        print(\"Objeto gato criado.\")\n",
    "    \n",
    "    def emitir_som(self):\n",
    "        print(\"Miau!\")"
   ]
  },
  {
   "cell_type": "code",
   "execution_count": 11,
   "id": "3397b5c6",
   "metadata": {},
   "outputs": [
    {
     "name": "stdout",
     "output_type": "stream",
     "text": [
      "Animal criado.\n",
      "Objeto cachorro criado.\n"
     ]
    }
   ],
   "source": [
    "# Criando um objeto (Instanciando a classe)\n",
    "rex = Cachorro()"
   ]
  },
  {
   "cell_type": "code",
   "execution_count": 12,
   "id": "6e887950",
   "metadata": {},
   "outputs": [
    {
     "name": "stdout",
     "output_type": "stream",
     "text": [
      "Animal criado.\n",
      "Objeto gato criado.\n"
     ]
    }
   ],
   "source": [
    "zeze = Gato()"
   ]
  },
  {
   "cell_type": "code",
   "execution_count": 13,
   "id": "7afd3f0b",
   "metadata": {},
   "outputs": [
    {
     "name": "stdout",
     "output_type": "stream",
     "text": [
      "Au Au!\n"
     ]
    }
   ],
   "source": [
    "rex.emitir_som()"
   ]
  },
  {
   "cell_type": "code",
   "execution_count": 14,
   "id": "d3f0880a",
   "metadata": {},
   "outputs": [
    {
     "name": "stdout",
     "output_type": "stream",
     "text": [
      "Miau!\n"
     ]
    }
   ],
   "source": [
    "zeze.emitir_som()"
   ]
  },
  {
   "cell_type": "markdown",
   "id": "5bb2efdc",
   "metadata": {},
   "source": [
    "# Fim"
   ]
  }
 ],
 "metadata": {
  "kernelspec": {
   "display_name": "Python 3 (ipykernel)",
   "language": "python",
   "name": "python3"
  },
  "language_info": {
   "codemirror_mode": {
    "name": "ipython",
    "version": 3
   },
   "file_extension": ".py",
   "mimetype": "text/x-python",
   "name": "python",
   "nbconvert_exporter": "python",
   "pygments_lexer": "ipython3",
   "version": "3.9.13"
  }
 },
 "nbformat": 4,
 "nbformat_minor": 5
}
