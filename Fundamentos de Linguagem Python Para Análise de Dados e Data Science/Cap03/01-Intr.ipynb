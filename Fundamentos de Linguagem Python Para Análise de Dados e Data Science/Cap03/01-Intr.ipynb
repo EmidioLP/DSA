{
 "cells": [
  {
   "cell_type": "markdown",
   "id": "8e6f6f28",
   "metadata": {},
   "source": [
    "# Data Science Academy\n",
    "\n",
    "### Fundamentos de Linguagem Python para Análise de Dados e Data Science\n",
    "\n",
    "### Capítulo 3 - Introdução à Lógica de Programação"
   ]
  },
  {
   "cell_type": "code",
   "execution_count": 2,
   "id": "53637e6b",
   "metadata": {},
   "outputs": [
    {
     "name": "stdout",
     "output_type": "stream",
     "text": [
      "Versão da Linguagem Python utilizada neste Jupyter Notebook: 3.9.13\n"
     ]
    }
   ],
   "source": [
    "# Versão da Linguagem Python\n",
    "from platform import python_version\n",
    "print('Versão da Linguagem Python utilizada neste Jupyter Notebook:', python_version())"
   ]
  },
  {
   "cell_type": "markdown",
   "id": "fab1b8a8",
   "metadata": {},
   "source": [
    "Ps: Pressionar as teclas shift e enter para executar o código em uma célula ou o botão Run no menu superior."
   ]
  },
  {
   "cell_type": "markdown",
   "id": "67139fe1",
   "metadata": {},
   "source": [
    "### Pseudocódigo 1 - Calcular a Área de um Paralelograma\n",
    "Nota: Um paralelograma é um quadrilátero com lados opostos paralelos (e portanto ângulos opostos iguais). Um quadrilátero com lados iguais é chamado de losango e um paralelogramo cujos ângulos são todos ângulos retos é chamado de retângulo.\n",
    "\n",
    "Inicie\n",
    "\n",
    "    Exiba \"Bem-vindo ao Calculador de Área de Paralelogramo\"\n",
    "    Peça para o usuário inserir o compromento da base\n",
    "    Armazene o comprimento da base em uma variável\n",
    "    Peça para o usuário inserir a altura\n",
    "    Armazene a altura em uma variável\n",
    "    Calcule a área do paralelogramo: base * altura\n",
    "    Armazene o resultado em uma variável\n",
    "    Exiba o resultado\n",
    "    \n",
    "Fim"
   ]
  },
  {
   "cell_type": "markdown",
   "id": "c78ba514",
   "metadata": {},
   "source": [
    "### Convertendo o Pseudocódigo 1 em Programa Python"
   ]
  },
  {
   "cell_type": "code",
   "execution_count": 3,
   "id": "068357cc",
   "metadata": {},
   "outputs": [
    {
     "name": "stdout",
     "output_type": "stream",
     "text": [
      "Bem-vindo ao Calculador de Área de Paralelogramo\n",
      "Insira o comprimento da base: 4\n",
      "Insira a altura: 6\n",
      "A área do paralelogramo é:  24.0\n"
     ]
    }
   ],
   "source": [
    "print(\"Bem-vindo ao Calculador de Área de Paralelogramo\")\n",
    "base = float(input(\"Insira o comprimento da base: \"))\n",
    "altura = float(input(\"Insira a altura: \"))\n",
    "area = base * altura\n",
    "print(\"A área do paralelogramo é: \", area)"
   ]
  },
  {
   "cell_type": "markdown",
   "id": "ba98b328",
   "metadata": {},
   "source": [
    "### Pseudocódigo 2  - Calculadora Simples\n",
    "Inicie\n",
    "    \n",
    "    Exiba \"Bem-vindo à Calculadora!\"\n",
    "    Peça para o usuário inserior o primeiro número da operação\n",
    "    Armazene o número em uma variável\n",
    "    Peça para o usuário inserir o operador (+, -, *, /)\n",
    "    Armazene o operador em uma variável\n",
    "    Peça para o usuário inserir o segundo número\n",
    "    Armazene o número em uma variável\n",
    "    Utilize a operação selecionada e os números armazenados para realizar o cálculo\n",
    "    Exiba o Resultado\n",
    "\n",
    "Fim\n",
    "    "
   ]
  },
  {
   "cell_type": "code",
   "execution_count": 4,
   "id": "5ea5026e",
   "metadata": {},
   "outputs": [
    {
     "name": "stdout",
     "output_type": "stream",
     "text": [
      "Bem-vindo à Calculadora!\n",
      "Insira o primeiro número: 5\n",
      "Insira o operador: +\n",
      "Insira o segundo número: 3\n",
      "O resultado é:  8.0\n"
     ]
    }
   ],
   "source": [
    "print (\"Bem-vindo à Calculadora!\")\n",
    "num_1 = float(input(\"Insira o primeiro número: \"))\n",
    "operador = str(input(\"Insira o operador: \"))\n",
    "num_2 = float(input(\"Insira o segundo número: \"))\n",
    "if operador == \"+\":\n",
    "    resultado = num_1 + num_2\n",
    "    print(\"O resultado é: \", resultado)\n",
    "elif operador == \"-\":\n",
    "    resultado = num_1 - num_2\n",
    "    print(\"O resultado é: \", resultado)\n",
    "elif operador == \"*\":\n",
    "    resultado = num_1 * num_2\n",
    "    print(\"O resultado é: \", resultado)  \n",
    "elif operador == \"/\":\n",
    "    resultado = num_1 / num_2\n",
    "    print(\"O resultado é: \", resultado)\n",
    "else: \n",
    "    print(\"Ocorreu algum erro, tente novamente!\")"
   ]
  },
  {
   "cell_type": "markdown",
   "id": "52e0cc20",
   "metadata": {},
   "source": [
    "### Pseudocódigo 3 - Algoritmo Bubble Sort\n",
    "Bubble Sort é um algoritmo de ordenação simples que funciona comparando cada elemento com o próximo e trocando-os de lugar se eles estiverem em ordem incorreta. O algoritmo repete esse processo várias vezes, até que todos os elementos estejam ordenados corretamente. A cada passagem, o maior elemento \"flutua\" para o final do array, como uma bolha, dando origem ao nome do algoritmo.\n",
    "\n",
    "Inicie\n",
    "\n",
    "    Para cada elemento i no array de tamanho n\n",
    "        Para cada elemento j no array de tamanho n - 1\n",
    "            Se elemento i for meior que elemento j\n",
    "                Troque os elementos i e j\n",
    "    Exiba o array ordenado\n",
    "\n",
    "Fim"
   ]
  },
  {
   "cell_type": "code",
   "execution_count": 5,
   "id": "355047e7",
   "metadata": {},
   "outputs": [],
   "source": [
    "# Lista considerada como exemplo para ser ordenada pelo algoritmo\n",
    "lista = [6, 7, 8, 3, 10, 19, 4, 1, 0, 61, 30, 16, 17, 82, 29, 34, 43, 21, 11, 39, 56, 67, 12]"
   ]
  },
  {
   "cell_type": "code",
   "execution_count": null,
   "id": "793f7beb",
   "metadata": {},
   "outputs": [],
   "source": [
    "def bubble_sort(arr):\n",
    "    n = len(arr)\n",
    "    \n",
    "    # Para cada elemento i do array\n",
    "    for i in range(n):\n",
    "        \n",
    "        # Para cada elemento j do array\n",
    "        for j in range(0, n-i-1):\n",
    "            \n",
    "            # Se o elemento i for maior que j\n",
    "            if arr[j] > arr[j+1]:\n",
    "                \n",
    "                # Troque os elementos i e j\n",
    "                arr[j], arr[j+1] = arr[j+1], arr[j]\n",
    "            "
   ]
  }
 ],
 "metadata": {
  "kernelspec": {
   "display_name": "Python 3 (ipykernel)",
   "language": "python",
   "name": "python3"
  },
  "language_info": {
   "codemirror_mode": {
    "name": "ipython",
    "version": 3
   },
   "file_extension": ".py",
   "mimetype": "text/x-python",
   "name": "python",
   "nbconvert_exporter": "python",
   "pygments_lexer": "ipython3",
   "version": "3.9.13"
  }
 },
 "nbformat": 4,
 "nbformat_minor": 5
}
