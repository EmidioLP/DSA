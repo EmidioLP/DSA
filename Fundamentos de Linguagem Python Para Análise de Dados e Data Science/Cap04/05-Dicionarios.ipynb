{
 "cells": [
  {
   "cell_type": "markdown",
   "id": "975f1ef0",
   "metadata": {},
   "source": [
    "# Data Science Academy\n",
    "\n",
    "### Fundamentos de Linguagem Python para Análise de Dados e Data Science\n",
    "\n",
    "### Capítulo 4  - Estruturas de Dados (Dicionários)"
   ]
  },
  {
   "cell_type": "code",
   "execution_count": 1,
   "id": "4727476d",
   "metadata": {},
   "outputs": [
    {
     "name": "stdout",
     "output_type": "stream",
     "text": [
      "Versão da Linguagem Python Usada Neste Jupyter Notebook:  3.9.13\n"
     ]
    }
   ],
   "source": [
    "# Versão da Linguagem Python\n",
    "from platform import python_version\n",
    "print('Versão da Linguagem Python Usada Neste Jupyter Notebook: ', python_version())"
   ]
  },
  {
   "cell_type": "markdown",
   "id": "ab7d63ab",
   "metadata": {},
   "source": [
    "### Trabalhando com Dicionários"
   ]
  },
  {
   "cell_type": "code",
   "execution_count": 2,
   "id": "f77db533",
   "metadata": {},
   "outputs": [
    {
     "name": "stdout",
     "output_type": "stream",
     "text": [
      "['Pedro', 24, 'Ana', 22, 'Ronaldo', 26, 'Janaina', 25]\n"
     ]
    }
   ],
   "source": [
    "# Isso é uma lista\n",
    "estudantes_list = [\"Pedro\", 24, \"Ana\", 22, \"Ronaldo\", 26, \"Janaina\",25]\n",
    "print(estudantes_list)"
   ]
  },
  {
   "cell_type": "code",
   "execution_count": 3,
   "id": "a6782cca",
   "metadata": {},
   "outputs": [
    {
     "name": "stdout",
     "output_type": "stream",
     "text": [
      "{'Pedro': 24, 'Ana': 22, 'Ronaldo': 26, 'Janaina': 25}\n"
     ]
    }
   ],
   "source": [
    "#Isso é um dicionário\n",
    "estudantes_dict = {\"Pedro\":24, \"Ana\":22, \"Ronaldo\":26, \"Janaina\":25}\n",
    "print(estudantes_dict)"
   ]
  },
  {
   "cell_type": "code",
   "execution_count": 4,
   "id": "3cb71037",
   "metadata": {},
   "outputs": [
    {
     "data": {
      "text/plain": [
       "24"
      ]
     },
     "execution_count": 4,
     "metadata": {},
     "output_type": "execute_result"
    }
   ],
   "source": [
    "estudantes_dict[\"Pedro\"]"
   ]
  },
  {
   "cell_type": "code",
   "execution_count": 5,
   "id": "d0e3d709",
   "metadata": {},
   "outputs": [],
   "source": [
    "estudantes_dict[\"Marcelo\"] = 23"
   ]
  },
  {
   "cell_type": "code",
   "execution_count": 6,
   "id": "de7ef33e",
   "metadata": {},
   "outputs": [
    {
     "data": {
      "text/plain": [
       "23"
      ]
     },
     "execution_count": 6,
     "metadata": {},
     "output_type": "execute_result"
    }
   ],
   "source": [
    "estudantes_dict[\"Marcelo\"]"
   ]
  },
  {
   "cell_type": "code",
   "execution_count": 7,
   "id": "703e0e6b",
   "metadata": {},
   "outputs": [
    {
     "name": "stdout",
     "output_type": "stream",
     "text": [
      "{}\n"
     ]
    }
   ],
   "source": [
    "estudantes_dict.clear()\n",
    "print(estudantes_dict)"
   ]
  },
  {
   "cell_type": "code",
   "execution_count": 8,
   "id": "a2491e79",
   "metadata": {},
   "outputs": [],
   "source": [
    "del estudantes_dict"
   ]
  },
  {
   "cell_type": "code",
   "execution_count": 9,
   "id": "915b6098",
   "metadata": {},
   "outputs": [],
   "source": [
    "estudantes = {\"Pedro\":24, \"Ana\":22, \"Ronaldo\":26, \"Janaina\":25}"
   ]
  },
  {
   "cell_type": "code",
   "execution_count": 10,
   "id": "f8494295",
   "metadata": {},
   "outputs": [
    {
     "data": {
      "text/plain": [
       "4"
      ]
     },
     "execution_count": 10,
     "metadata": {},
     "output_type": "execute_result"
    }
   ],
   "source": [
    "len(estudantes)"
   ]
  },
  {
   "cell_type": "code",
   "execution_count": 11,
   "id": "165ac068",
   "metadata": {},
   "outputs": [
    {
     "data": {
      "text/plain": [
       "dict_keys(['Pedro', 'Ana', 'Ronaldo', 'Janaina'])"
      ]
     },
     "execution_count": 11,
     "metadata": {},
     "output_type": "execute_result"
    }
   ],
   "source": [
    "estudantes.keys()"
   ]
  },
  {
   "cell_type": "code",
   "execution_count": 12,
   "id": "2cebcac0",
   "metadata": {},
   "outputs": [
    {
     "data": {
      "text/plain": [
       "dict_values([24, 22, 26, 25])"
      ]
     },
     "execution_count": 12,
     "metadata": {},
     "output_type": "execute_result"
    }
   ],
   "source": [
    "estudantes.values()"
   ]
  },
  {
   "cell_type": "code",
   "execution_count": 13,
   "id": "131de2ce",
   "metadata": {},
   "outputs": [
    {
     "data": {
      "text/plain": [
       "dict_items([('Pedro', 24), ('Ana', 22), ('Ronaldo', 26), ('Janaina', 25)])"
      ]
     },
     "execution_count": 13,
     "metadata": {},
     "output_type": "execute_result"
    }
   ],
   "source": [
    "estudantes.items()"
   ]
  },
  {
   "cell_type": "code",
   "execution_count": 14,
   "id": "05453290",
   "metadata": {},
   "outputs": [],
   "source": [
    "estudantes2 = {\"Camila\":27, \"Adriana\":28, \"Roberta\":26}"
   ]
  },
  {
   "cell_type": "code",
   "execution_count": 16,
   "id": "24965249",
   "metadata": {},
   "outputs": [
    {
     "name": "stdout",
     "output_type": "stream",
     "text": [
      "{'Pedro': 24, 'Ana': 22, 'Ronaldo': 26, 'Janaina': 25, 'Camila': 27, 'Adriana': 28, 'Roberta': 26}\n"
     ]
    }
   ],
   "source": [
    "estudantes.update(estudantes2)\n",
    "print(estudantes)"
   ]
  },
  {
   "cell_type": "code",
   "execution_count": 17,
   "id": "74b61767",
   "metadata": {},
   "outputs": [],
   "source": [
    "dic1 = {}"
   ]
  },
  {
   "cell_type": "code",
   "execution_count": 18,
   "id": "5981e747",
   "metadata": {},
   "outputs": [],
   "source": [
    "dic1[\"chave_um\"] = 2"
   ]
  },
  {
   "cell_type": "code",
   "execution_count": 19,
   "id": "589a23cb",
   "metadata": {},
   "outputs": [],
   "source": [
    "dic1[10]=5"
   ]
  },
  {
   "cell_type": "code",
   "execution_count": 20,
   "id": "29326523",
   "metadata": {},
   "outputs": [],
   "source": [
    "dic1[9.13] = \"Python\""
   ]
  },
  {
   "cell_type": "code",
   "execution_count": 21,
   "id": "b9128a86",
   "metadata": {},
   "outputs": [
    {
     "data": {
      "text/plain": [
       "{'chave_um': 2, 10: 5, 9.13: 'Python'}"
      ]
     },
     "execution_count": 21,
     "metadata": {},
     "output_type": "execute_result"
    }
   ],
   "source": [
    "dic1"
   ]
  },
  {
   "cell_type": "code",
   "execution_count": null,
   "id": "5b0e1626",
   "metadata": {},
   "outputs": [],
   "source": [
    "# Dicionário de listas\n",
    "dic2 = {'chave1': 1230, 'chave2':[22,453,73.4], 'chave3':['picanha', 'fraldinha', 'alcatra']}"
   ]
  },
  {
   "cell_type": "code",
   "execution_count": 23,
   "id": "2e89d4c5",
   "metadata": {},
   "outputs": [
    {
     "data": {
      "text/plain": [
       "{'chave1': 1230,\n",
       " 'chave2': [22, 453, 73.4],\n",
       " 'chave3': ['picanha', 'fraldinha', 'alcatra']}"
      ]
     },
     "execution_count": 23,
     "metadata": {},
     "output_type": "execute_result"
    }
   ],
   "source": [
    "dic2"
   ]
  },
  {
   "cell_type": "code",
   "execution_count": 24,
   "id": "f6057e78",
   "metadata": {},
   "outputs": [
    {
     "data": {
      "text/plain": [
       "'PICANHA'"
      ]
     },
     "execution_count": 24,
     "metadata": {},
     "output_type": "execute_result"
    }
   ],
   "source": [
    "# Acessando um item da lista dentro do dicionário\n",
    "dic2['chave3'][0].upper()"
   ]
  },
  {
   "cell_type": "code",
   "execution_count": 28,
   "id": "fb207ea3",
   "metadata": {},
   "outputs": [
    {
     "name": "stdout",
     "output_type": "stream",
     "text": [
      "20\n"
     ]
    }
   ],
   "source": [
    "# Operações com itens da lista dentro do dicionário\n",
    "var1 = dic2['chave2'][0] - 2\n",
    "print(var1)"
   ]
  },
  {
   "cell_type": "code",
   "execution_count": 29,
   "id": "af233611",
   "metadata": {},
   "outputs": [],
   "source": [
    "# Duas operações no mesmo comando para atualizar um item dentro da lista\n",
    "dic2['chave2'][0]-=2"
   ]
  },
  {
   "cell_type": "code",
   "execution_count": 30,
   "id": "14aa68a1",
   "metadata": {},
   "outputs": [
    {
     "data": {
      "text/plain": [
       "{'chave1': 1230,\n",
       " 'chave2': [20, 453, 73.4],\n",
       " 'chave3': ['picanha', 'fraldinha', 'alcatra']}"
      ]
     },
     "execution_count": 30,
     "metadata": {},
     "output_type": "execute_result"
    }
   ],
   "source": [
    "dic2"
   ]
  },
  {
   "cell_type": "markdown",
   "id": "2274c439",
   "metadata": {},
   "source": [
    "### Criando Dicionários Aninhados"
   ]
  },
  {
   "cell_type": "code",
   "execution_count": 31,
   "id": "91efe4ab",
   "metadata": {},
   "outputs": [
    {
     "name": "stdout",
     "output_type": "stream",
     "text": [
      "{'key1': {'key2_aninhada': {'key3_aninhada': 'Dict aninhado em Python'}}}\n"
     ]
    }
   ],
   "source": [
    "# Criando um dicionário aninhado\n",
    "dic_aninhado = {'key1':{'key2_aninhada':{'key3_aninhada': 'Dict aninhado em Python'}}}\n",
    "print(dic_aninhado)"
   ]
  },
  {
   "cell_type": "code",
   "execution_count": 33,
   "id": "674fe679",
   "metadata": {},
   "outputs": [
    {
     "data": {
      "text/plain": [
       "'Dict aninhado em Python'"
      ]
     },
     "execution_count": 33,
     "metadata": {},
     "output_type": "execute_result"
    }
   ],
   "source": [
    "dic_aninhado['key1']['key2_aninhada']['key3_aninhada']"
   ]
  },
  {
   "cell_type": "markdown",
   "id": "5e426e14",
   "metadata": {},
   "source": [
    "# Fim"
   ]
  }
 ],
 "metadata": {
  "kernelspec": {
   "display_name": "Python 3 (ipykernel)",
   "language": "python",
   "name": "python3"
  },
  "language_info": {
   "codemirror_mode": {
    "name": "ipython",
    "version": 3
   },
   "file_extension": ".py",
   "mimetype": "text/x-python",
   "name": "python",
   "nbconvert_exporter": "python",
   "pygments_lexer": "ipython3",
   "version": "3.9.13"
  }
 },
 "nbformat": 4,
 "nbformat_minor": 5
}
