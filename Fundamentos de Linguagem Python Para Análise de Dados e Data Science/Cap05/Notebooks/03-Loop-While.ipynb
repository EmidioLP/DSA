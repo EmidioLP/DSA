{
 "cells": [
  {
   "cell_type": "markdown",
   "id": "0b93ab15",
   "metadata": {},
   "source": [
    "# Data Science Academy\n",
    "\n",
    "### Fundamentos de Linguagem Python para Análise de Dados e Data Science\n",
    "\n",
    "### Capítulo 5  - Loop While"
   ]
  },
  {
   "cell_type": "code",
   "execution_count": 1,
   "id": "a29ff99d",
   "metadata": {},
   "outputs": [
    {
     "name": "stdout",
     "output_type": "stream",
     "text": [
      "Versão da Linguagem Python Usada Neste Jupyter Notebook:  3.9.13\n"
     ]
    }
   ],
   "source": [
    "# Versão da Linguagem Python\n",
    "from platform import python_version\n",
    "print('Versão da Linguagem Python Usada Neste Jupyter Notebook: ', python_version())"
   ]
  },
  {
   "cell_type": "markdown",
   "id": "aac56f8d",
   "metadata": {},
   "source": [
    "### Loop While"
   ]
  },
  {
   "cell_type": "code",
   "execution_count": 2,
   "id": "3f9296bc",
   "metadata": {},
   "outputs": [
    {
     "name": "stdout",
     "output_type": "stream",
     "text": [
      "0\n",
      "1\n",
      "2\n",
      "3\n",
      "4\n",
      "5\n",
      "6\n",
      "7\n",
      "8\n",
      "9\n"
     ]
    }
   ],
   "source": [
    "# Usando o loop while para imprimir valores de 0 a 9\n",
    "# A condição tem que deixar de ser verdadeira dentro do loop, senão pode rodar infinitamente\n",
    "valor = 0\n",
    "while valor < 10:\n",
    "    print(valor)\n",
    "    valor+= 1"
   ]
  },
  {
   "cell_type": "code",
   "execution_count": 3,
   "id": "56512e29",
   "metadata": {},
   "outputs": [
    {
     "name": "stdout",
     "output_type": "stream",
     "text": [
      "O valor de x nesta iteração é:  0\n",
      "x ainda é menor que 10, somando 1 a x\n",
      "O valor de x nesta iteração é:  1\n",
      "x ainda é menor que 10, somando 1 a x\n",
      "O valor de x nesta iteração é:  2\n",
      "x ainda é menor que 10, somando 1 a x\n",
      "O valor de x nesta iteração é:  3\n",
      "x ainda é menor que 10, somando 1 a x\n",
      "O valor de x nesta iteração é:  4\n",
      "x ainda é menor que 10, somando 1 a x\n",
      "O valor de x nesta iteração é:  5\n",
      "x ainda é menor que 10, somando 1 a x\n",
      "O valor de x nesta iteração é:  6\n",
      "x ainda é menor que 10, somando 1 a x\n",
      "O valor de x nesta iteração é:  7\n",
      "x ainda é menor que 10, somando 1 a x\n",
      "O valor de x nesta iteração é:  8\n",
      "x ainda é menor que 10, somando 1 a x\n",
      "O valor de x nesta iteração é:  9\n",
      "x ainda é menor que 10, somando 1 a x\n",
      "Loop concluído!\n",
      "10\n"
     ]
    }
   ],
   "source": [
    "# Também é possível usar a claúsula else para encerrar o loop while\n",
    "x = 0\n",
    "\n",
    "while x < 10:\n",
    "    print(\"O valor de x nesta iteração é: \",x)\n",
    "    print(\"x ainda é menor que 10, somando 1 a x\")\n",
    "    x+=1\n",
    "else:\n",
    "    print(\"Loop concluído!\")\n",
    "print(x)"
   ]
  },
  {
   "cell_type": "markdown",
   "id": "f21ab5b5",
   "metadata": {},
   "source": [
    "### Pass, Break e Continue"
   ]
  },
  {
   "cell_type": "code",
   "execution_count": 4,
   "id": "170916fb",
   "metadata": {},
   "outputs": [
    {
     "name": "stdout",
     "output_type": "stream",
     "text": [
      "0\n",
      "1\n",
      "2\n",
      "3\n"
     ]
    }
   ],
   "source": [
    "# Se encontrarmos o número 4 interrompemos o loop\n",
    "valor = 0\n",
    "while valor < 10:\n",
    "    if valor == 4:\n",
    "        break\n",
    "    else:\n",
    "        pass\n",
    "    print(valor)\n",
    "    valor += 1"
   ]
  },
  {
   "cell_type": "code",
   "execution_count": 5,
   "id": "85dfc34f",
   "metadata": {},
   "outputs": [
    {
     "name": "stdout",
     "output_type": "stream",
     "text": [
      "P\n",
      "y\n",
      "t\n",
      "h\n",
      "o\n",
      "n\n",
      " \n",
      "é\n",
      " \n",
      " \n",
      "i\n",
      "n\n",
      "c\n",
      "r\n",
      "í\n",
      "v\n",
      "e\n",
      "l\n",
      "!\n"
     ]
    }
   ],
   "source": [
    "# Desconsideramos a letra z ao imprimir os caracteres da frase\n",
    "for letra in \"Python é zzz incrível!\":\n",
    "    if letra ==\"z\":\n",
    "        continue\n",
    "    print(letra)"
   ]
  },
  {
   "cell_type": "markdown",
   "id": "bdba7120",
   "metadata": {},
   "source": [
    "### While e For Juntos\n",
    "Vamos encontrar números primos em uma coleção de números usando loop While e For juntos.\n",
    "\n",
    "Um número primo é um número natural maior do que 1 que é divsível apenas por 1 e ele mesmo. Isso significa que não há nenhum outro número inteiro que possa dividir o número primo sem deixar resto. Por exemplo, o número 2 é primo, pois é divisível apenas por 1 e 2. O número 4 não é primo, pois é divisível também por 2 além de 1 e ele mesmo.\n",
    "\n",
    "Segue o pseudocódigo:\n",
    "\n",
    "    Inicialize uma lista vazia para armazenar os números primos\n",
    "    Para cada número N entre 2 e 30:\n",
    "        Inicialize uma variável eh_primo como verdadeira\n",
    "        Para cada número i entre 2 e N/2:\n",
    "            Se N é divisível por 1, então:\n",
    "                Altere a variável eh_primo par falso\n",
    "                Pare de verificar os outros números\n",
    "        Se a variável eh_primo ainda é verdadeira, adicione N à lista de números primos\n",
    "    Imprimia a lista de números primos"
   ]
  },
  {
   "cell_type": "code",
   "execution_count": 6,
   "id": "8099f128",
   "metadata": {},
   "outputs": [
    {
     "name": "stdout",
     "output_type": "stream",
     "text": [
      "[2, 3, 5, 7, 9, 11, 13, 15, 17, 19, 21, 23, 25, 27, 29]\n",
      "Wall time: 1 ms\n"
     ]
    }
   ],
   "source": [
    "%%time\n",
    "\n",
    "# Encontrando números primos entre 2 e 30 usando o loop for e while\n",
    "\n",
    "# Variável para armazenar números primos\n",
    "primos = []\n",
    "\n",
    "# Loop for para percorrer números de 2 a 30\n",
    "for num in range (2, 31):\n",
    "    \n",
    "    #Variável de controle\n",
    "    eh_primo = True\n",
    "    \n",
    "    #Loop while para verificar se o número é primo\n",
    "    i = 2\n",
    "    while i <= num //2:\n",
    "        if num % i ==0:\n",
    "            eh_primo = False\n",
    "            break\n",
    "        i+=i\n",
    "    \n",
    "    # Adicionando o número primo na lista\n",
    "    if eh_primo:\n",
    "        primos.append(num)\n",
    "\n",
    "# Imprimindo a lista de números primos\n",
    "print(primos)"
   ]
  },
  {
   "cell_type": "code",
   "execution_count": 7,
   "id": "242746dd",
   "metadata": {},
   "outputs": [
    {
     "name": "stdout",
     "output_type": "stream",
     "text": [
      "2 é um número primo\n",
      "3 é um número primo\n",
      "5 é um número primo\n",
      "7 é um número primo\n",
      "11 é um número primo\n",
      "13 é um número primo\n",
      "17 é um número primo\n",
      "19 é um número primo\n",
      "23 é um número primo\n",
      "29 é um número primo\n",
      "Wall time: 0 ns\n"
     ]
    }
   ],
   "source": [
    "%%time\n",
    "\n",
    "# Encontrando números primos entre 2 e 30 usando o loop for e while (outra forma)\n",
    "\n",
    "# Loop for para percorrer números de 2 a 30\n",
    "for i in range (2, 31):\n",
    "    \n",
    "    # Variável de controle\n",
    "    j = 2\n",
    "    \n",
    "    #Contador\n",
    "    valor = 0\n",
    "    \n",
    "    # Loop while para verificar se o número é primo\n",
    "    while j < i:\n",
    "        if i % j == 0:\n",
    "            valor = 1\n",
    "            j = j + 1\n",
    "        else:\n",
    "            j = j + 1\n",
    "    if valor == 0:\n",
    "        print(str(i) + \" é um número primo\")\n",
    "        valor = 0\n",
    "    else:\n",
    "        valor = 0"
   ]
  },
  {
   "cell_type": "markdown",
   "id": "8237fcac",
   "metadata": {},
   "source": [
    "# Fim"
   ]
  }
 ],
 "metadata": {
  "kernelspec": {
   "display_name": "Python 3 (ipykernel)",
   "language": "python",
   "name": "python3"
  },
  "language_info": {
   "codemirror_mode": {
    "name": "ipython",
    "version": 3
   },
   "file_extension": ".py",
   "mimetype": "text/x-python",
   "name": "python",
   "nbconvert_exporter": "python",
   "pygments_lexer": "ipython3",
   "version": "3.9.13"
  }
 },
 "nbformat": 4,
 "nbformat_minor": 5
}
